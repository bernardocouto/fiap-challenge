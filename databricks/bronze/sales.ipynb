{
 "cells": [
  {
   "cell_type": "code",
   "execution_count": null,
   "metadata": {},
   "outputs": [],
   "source": [
    "%sql\n",
    "CREATE TABLE IF NOT EXISTS catalog.bronze.sales (\n",
    "    invoice_item_number STRING,\n",
    "    date STRING,\n",
    "    store_number STRING,\n",
    "    store_name STRING,\n",
    "    address STRING,\n",
    "    city STRING,\n",
    "    zip_code STRING,\n",
    "    store_location STRING,\n",
    "    county_number STRING,\n",
    "    county STRING,\n",
    "    category STRING,\n",
    "    category_name STRING,\n",
    "    vendor_number STRING,\n",
    "    vendor_name STRING,\n",
    "    item_number STRING,\n",
    "    item_description STRING,\n",
    "    pack STRING,\n",
    "    bottle_volume_ml STRING,\n",
    "    state_bottle_cost STRING,\n",
    "    state_bottle_retail STRING,\n",
    "    bottles_sold STRING,\n",
    "    sale_dollars STRING,\n",
    "    volume_sold_liters STRING,\n",
    "    volume_sold_gallons STRING\n",
    ");"
   ]
  },
  {
   "cell_type": "code",
   "execution_count": null,
   "metadata": {},
   "outputs": [],
   "source": [
    "%sql\n",
    "INSERT INTO catalog.bronze.sales\n",
    "  SELECT * FROM hive_metastore.default.sales;"
   ]
  }
 ],
 "metadata": {
  "language_info": {
   "name": "python"
  },
  "orig_nbformat": 4
 },
 "nbformat": 4,
 "nbformat_minor": 2
}
