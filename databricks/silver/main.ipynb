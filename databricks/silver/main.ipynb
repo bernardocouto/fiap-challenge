{
 "cells": [
  {
   "cell_type": "code",
   "execution_count": null,
   "metadata": {},
   "outputs": [],
   "source": [
    "%sql\n",
    "CREATE SCHEMA IF NOT EXIST silver\n",
    "COMMENT 'Silver Layer'\n",
    "LOCALTION 's3://fiap-challenge/databricks/silver';\n",
    "\n",
    "CREATE TABLE silver.health (\n",
    "\n",
    ");\n",
    "\n",
    "CREATE TABLE silver.sales (\n",
    "    \n",
    ");"
   ]
  },
  {
   "cell_type": "code",
   "execution_count": null,
   "metadata": {},
   "outputs": [],
   "source": [
    "%sql\n",
    "INSERT INTO silver.health\n",
    "    SELECT * FROM bronze.health"
   ]
  },
  {
   "cell_type": "code",
   "execution_count": null,
   "metadata": {},
   "outputs": [],
   "source": [
    "%sql\n",
    "INSERT INTO silver.sales\n",
    "    SELECT * FROM bronze.sales"
   ]
  }
 ],
 "metadata": {
  "language_info": {
   "name": "python"
  },
  "orig_nbformat": 4
 },
 "nbformat": 4,
 "nbformat_minor": 2
}
