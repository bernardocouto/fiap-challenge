{
 "cells": [
  {
   "cell_type": "code",
   "execution_count": null,
   "metadata": {},
   "outputs": [],
   "source": [
    "%python\n",
    "df = spark.read.format(\"csv\") \\\n",
    "  .option(\"inferSchema\", \"true\") \\\n",
    "  .option(\"header\", \"true\") \\\n",
    "  .option(\"sep\", \",\") \\\n",
    "  .load(\"s3://fiap-challenge/landing/sales\")\n",
    "\n",
    "display(df)"
   ]
  },
  {
   "cell_type": "code",
   "execution_count": null,
   "metadata": {},
   "outputs": [
    {
     "ename": "",
     "evalue": "",
     "output_type": "error",
     "traceback": [
      "\u001b[1;31mJupyter cannot be started. Error attempting to locate jupyter: Running cells with 'Python 3.9.13 64-bit' requires notebook and jupyter package.\n",
      "Run the following command to install 'jupyter and notebook' into the Python environment. \n",
      "Command: 'python -m pip install jupyter notebook -U\n",
      "or\n",
      "conda install jupyter notebook -U'\n",
      "Click <a href='https://aka.ms/installJupyterForVSCode'>here</a> for more info."
     ]
    }
   ],
   "source": [
    "%python\n",
    "df_renamed = (\n",
    "    df\n",
    "        .withColumnRenamed(\"Invoice/Item Number\", \"invoice_item_number\")\n",
    "        .withColumnRenamed(\"Date\", \"date\")\n",
    "        .withColumnRenamed(\"Store Number\", \"store_number\")\n",
    "        .withColumnRenamed(\"Store Name\", \"store_name\")\n",
    "        .withColumnRenamed(\"Address\", \"address\")\n",
    "        .withColumnRenamed(\"City\", \"city\")\n",
    "        .withColumnRenamed(\"Zip Code\", \"zip_code\")\n",
    "        .withColumnRenamed(\"Store Location\", \"store_location\")\n",
    "        .withColumnRenamed(\"County Number\", \"county_number\")\n",
    "        .withColumnRenamed(\"County\", \"county\")\n",
    "        .withColumnRenamed(\"Category\", \"category\")\n",
    "        .withColumnRenamed(\"Category Name\", \"category_name\")\n",
    "        .withColumnRenamed(\"Vendor Number\", \"vendor_number\")\n",
    "        .withColumnRenamed(\"Vendor Name\", \"vendor_name\")\n",
    "        .withColumnRenamed(\"Item Number\", \"item_number\")\n",
    "        .withColumnRenamed(\"Item Description\", \"item_description\")\n",
    "        .withColumnRenamed(\"Pack\", \"pack\")\n",
    "        .withColumnRenamed(\"Bottle Volume (ml)\", \"bottle_volume_ml\")\n",
    "        .withColumnRenamed(\"State Bottle Cost\", \"state_bottle_cost\")\n",
    "        .withColumnRenamed(\"State Bottle Retail\", \"state_bottle_retail\")\n",
    "        .withColumnRenamed(\"Bottles Sold\", \"bottles_sold\")\n",
    "        .withColumnRenamed(\"Sale (Dollars)\", \"sale_dollars\")\n",
    "        .withColumnRenamed(\"Volume Sold (Liters)\", \"volume_sold_liters\")\n",
    "        .withColumnRenamed(\"Volume Sold (Gallons)\", \"volume_sold_gallons\")\n",
    ")\n",
    "\n",
    "display(df_renamed)"
   ]
  },
  {
   "cell_type": "code",
   "execution_count": null,
   "metadata": {},
   "outputs": [],
   "source": [
    "%python\n",
    "df.createOrReplaceTempView(\"view_sales\")"
   ]
  },
  {
   "cell_type": "code",
   "execution_count": null,
   "metadata": {},
   "outputs": [],
   "source": [
    "%sql\n",
    "SELECT * FROM view_sales;"
   ]
  },
  {
   "cell_type": "code",
   "execution_count": null,
   "metadata": {},
   "outputs": [],
   "source": [
    "%python\n",
    "df.write.format(\"delta\").saveAsTable(\"default.sales\")"
   ]
  }
 ],
 "metadata": {
  "kernelspec": {
   "display_name": "Python 3.9.13 64-bit",
   "language": "python",
   "name": "python3"
  },
  "language_info": {
   "name": "python",
   "version": "3.9.13"
  },
  "orig_nbformat": 4,
  "vscode": {
   "interpreter": {
    "hash": "b0fa6594d8f4cbf19f97940f81e996739fb7646882a419484c72d19e05852a7e"
   }
  }
 },
 "nbformat": 4,
 "nbformat_minor": 2
}
